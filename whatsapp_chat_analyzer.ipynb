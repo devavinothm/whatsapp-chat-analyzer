{
 "cells": [
  {
   "cell_type": "code",
   "execution_count": 72,
   "metadata": {},
   "outputs": [
    {
     "name": "stdout",
     "output_type": "stream",
     "text": [
      "WhatsApp Chat Analyzer Project\n"
     ]
    }
   ],
   "source": [
    "print(\"WhatsApp Chat Analyzer Project\")"
   ]
  },
  {
   "cell_type": "code",
   "execution_count": 73,
   "metadata": {},
   "outputs": [],
   "source": [
    "import re\n",
    "import pandas as pd"
   ]
  },
  {
   "cell_type": "code",
   "execution_count": 74,
   "metadata": {},
   "outputs": [],
   "source": [
    "f = open(\"WhatsApp_Chat_AMFriends.txt\", \"r\", encoding=\"utf-8\")"
   ]
  },
  {
   "cell_type": "code",
   "execution_count": 75,
   "metadata": {},
   "outputs": [],
   "source": [
    "data = f.read()"
   ]
  },
  {
   "cell_type": "code",
   "execution_count": 77,
   "metadata": {},
   "outputs": [],
   "source": [
    "import re\n",
    "import csv\n",
    "from datetime import datetime\n",
    "\n",
    "def split_and_extract_messages(data):\n",
    "    # Enhanced regex pattern to capture date, time, and content\n",
    "    pattern = r\"(\\d{1,2}/\\d{1,2}/\\d{2,4}),\\s(\\d{1,2}:\\d{2}\\s[APM]{2})\\s-\\s(.*)\"\n",
    "    \n",
    "    # Use findall to extract all matches\n",
    "    matches = re.findall(pattern, data)\n",
    "    \n",
    "    # Convert matches into a list of dictionaries\n",
    "    messages = []\n",
    "    for match in matches:\n",
    "        date, time, content = match\n",
    "        user_message_split = content.split(':', 1)\n",
    "        user = user_message_split[0]\n",
    "        message = user_message_split[1].strip() if len(user_message_split) > 1 else ''\n",
    "        \n",
    "        # Parse the date to get additional date components\n",
    "        parsed_date = datetime.strptime(date, \"%m/%d/%y\")\n",
    "        day_name = parsed_date.strftime(\"%A\")\n",
    "        \n",
    "        messages.append({\n",
    "            'date': date,\n",
    "            'user': user,\n",
    "            'message': message,\n",
    "            'only_date': date,\n",
    "            'year': date.split('/')[2],  # Extract year from date\n",
    "            'month': date.split('/')[1],  # Extract month from date\n",
    "            'month_name': parsed_date.strftime(\"%B\"),  # Extract month name from date '%B\n",
    "            'day': date.split('/')[1],  # Extract day from date\n",
    "            'day_name': day_name,  # Extract day name\n",
    "            'hour': time.split(':')[0],  # Extract hour from time\n",
    "            'minute': time.split(':')[1].split()[0],  # Extract minute from time\n",
    "            'period': time.split()[1],  # Extract period from time\n",
    "        })\n",
    "    \n",
    "    return messages\n",
    "\n",
    "def save_messages_to_csv(messages, filename):\n",
    "    # Define the CSV header\n",
    "    header = ['date', 'user', 'message', 'only_date', 'year', 'month', 'month_name', 'day', 'day_name', 'hour', 'minute', 'period']\n",
    "    \n",
    "    # Write the data to a CSV file\n",
    "    with open(filename, mode='w', newline='', encoding='utf-8') as file:\n",
    "        writer = csv.DictWriter(file, fieldnames=header)\n",
    "        writer.writeheader()\n",
    "        for message in messages:\n",
    "            writer.writerow(message)\n",
    "\n",
    "messages = split_and_extract_messages(data)\n",
    "save_messages_to_csv(messages, 'formatted_data.csv')\n"
   ]
  },
  {
   "cell_type": "code",
   "execution_count": 79,
   "metadata": {},
   "outputs": [
    {
     "data": {
      "text/plain": [
       "'\\n\\nI have deleted all further code as contains personal data of the chat.\\n\\n'"
      ]
     },
     "execution_count": 79,
     "metadata": {},
     "output_type": "execute_result"
    }
   ],
   "source": [
    "'''\n",
    "\n",
    "I have deleted all further code as contains personal data of the chat.\n",
    "\n",
    "'''"
   ]
  },
  {
   "cell_type": "code",
   "execution_count": null,
   "metadata": {},
   "outputs": [],
   "source": []
  }
 ],
 "metadata": {
  "kernelspec": {
   "display_name": "campusx",
   "language": "python",
   "name": "python3"
  },
  "language_info": {
   "codemirror_mode": {
    "name": "ipython",
    "version": 3
   },
   "file_extension": ".py",
   "mimetype": "text/x-python",
   "name": "python",
   "nbconvert_exporter": "python",
   "pygments_lexer": "ipython3",
   "version": "3.11.9"
  }
 },
 "nbformat": 4,
 "nbformat_minor": 2
}
